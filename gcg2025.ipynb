{
 "cells": [
  {
   "cell_type": "code",
   "execution_count": 1,
   "id": "138d7c34",
   "metadata": {},
   "outputs": [],
   "source": [
    "import code_golf_utils\n",
    "import json\n",
    "import importlib\n",
    "import copy"
   ]
  },
  {
   "cell_type": "code",
   "execution_count": 2,
   "id": "b592a913",
   "metadata": {},
   "outputs": [
    {
     "data": {
      "image/png": "[encoded data removed]",
      "text/plain": [
       "<Figure size 1000x500 with 1 Axes>"
      ]
     },
     "metadata": {},
     "output_type": "display_data"
    }
   ],
   "source": [
    "code_golf_utils.show_legend()"
   ]
  },
  {
   "cell_type": "code",
   "execution_count": 15,
   "id": "6bbaa2d7",
   "metadata": {},
   "outputs": [
    {
     "data": {
      "image/png": "[encoded data removed]",
      "text/plain": [
       "<Figure size 1000x500 with 1 Axes>"
      ]
     },
     "metadata": {},
     "output_type": "display_data"
    }
   ],
   "source": [
    "task = 2\n",
    "filename = f'tests/task{task:03}.json'\n",
    "with open(filename) as testfile:\n",
    "    tests = json.load(testfile)\n",
    "code_golf_utils.show_examples(tests['train'])"
   ]
  },
  {
   "cell_type": "code",
   "execution_count": 20,
   "id": "2dea754b",
   "metadata": {},
   "outputs": [
    {
     "name": "stdout",
     "output_type": "stream",
     "text": [
      "task002 passed!\n"
     ]
    }
   ],
   "source": [
    "try:\n",
    "    if not submission_module.__name__.endswith(f'{task:03}'):\n",
    "        raise NameError('incorrect module')\n",
    "    importlib.reload(submission_module)\n",
    "except NameError:\n",
    "    submission_module = importlib.import_module(f'submissions.task{task:03}')\n",
    "submission = submission_module.p\n",
    "for test_case in tests['train'] + tests['test'] + tests['arc-gen']:\n",
    "    test_input, test_output = test_case['input'], test_case['output']\n",
    "    submission_output = submission(copy.deepcopy(test_input))\n",
    "    if submission_output != test_output:\n",
    "        code_golf_utils.show_examples([\n",
    "            {'input': test_input, 'output': test_output},\n",
    "            {'input': test_input, 'output': submission_output}\n",
    "        ])\n",
    "        break\n",
    "else:\n",
    "    print(f'task{task:03} passed!')"
   ]
  }
 ],
 "metadata": {
  "kernelspec": {
   "display_name": "gcg2025",
   "language": "python",
   "name": "python3"
  },
  "language_info": {
   "codemirror_mode": {
    "name": "ipython",
    "version": 3
   },
   "file_extension": ".py",
   "mimetype": "text/x-python",
   "name": "python",
   "nbconvert_exporter": "python",
   "pygments_lexer": "ipython3",
   "version": "3.10.12"
  }
 },
 "nbformat": 4,
 "nbformat_minor": 5
}
